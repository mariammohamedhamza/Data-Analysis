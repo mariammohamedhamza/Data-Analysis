{
 "cells": [
  {
   "cell_type": "code",
   "execution_count": null,
   "id": "05985e8c",
   "metadata": {},
   "outputs": [],
   "source": [
    "import pandas as pd\n",
    "import numpy as np\n",
    "import matplotlib.pyplot as plt\n",
    "import seaborn as sns\n",
    "import warnings\n",
    "warnings.filterwarnings('ignore')\n",
    "from sklearn import datasets\n",
    "from sklearn.model_selection import train_test_split\n",
    "from sklearn  import linear_model\n",
    "from sklearn.metrics import mean_squared_error,r2_score"
   ]
  },
  {
   "cell_type": "code",
   "execution_count": null,
   "id": "18d2567b",
   "metadata": {},
   "outputs": [],
   "source": [
    "df=pd.read_csv('/content/nba2k-full.csv')\n",
    "df.head()        #get data"
   ]
  },
  {
   "cell_type": "code",
   "execution_count": null,
   "id": "f9c06ff1",
   "metadata": {},
   "outputs": [],
   "source": [
    "df.isna().sum()      #get missing values "
   ]
  },
  {
   "cell_type": "code",
   "execution_count": null,
   "id": "c965715d",
   "metadata": {},
   "outputs": [],
   "source": [
    "data=df.copy()     # take a copy of the data so that I do not lose it."
   ]
  },
  {
   "cell_type": "code",
   "execution_count": null,
   "id": "71681c9b",
   "metadata": {},
   "outputs": [],
   "source": [
    "df = df.drop('college', axis=1)     # delete it because it is full of unknown data"
   ]
  },
  {
   "cell_type": "code",
   "execution_count": null,
   "id": "398cce06",
   "metadata": {},
   "outputs": [],
   "source": [
    "df = df.drop('jersey', axis=1)   #  delete it because it is full of unknown data"
   ]
  },
  {
   "cell_type": "code",
   "execution_count": null,
   "id": "d4c9a2ef",
   "metadata": {},
   "outputs": [],
   "source": [
    "df.head() "
   ]
  },
  {
   "cell_type": "code",
   "execution_count": null,
   "id": "d302069b",
   "metadata": {},
   "outputs": [],
   "source": [
    "df.info()  # verify the types of data"
   ]
  },
  {
   "cell_type": "code",
   "execution_count": null,
   "id": "3f7d914f",
   "metadata": {},
   "outputs": [],
   "source": [
    "df['salary']=df['salary'].str.replace('$','')\n",
    "df['salary']    #remove el $"
   ]
  },
  {
   "cell_type": "code",
   "execution_count": null,
   "id": "1a99ead5",
   "metadata": {},
   "outputs": [],
   "source": [
    "df['height'] = df['height'].str.extract(r'/\\s*(\\d+\\.?\\d*)').astype(float)     # get the exact height"
   ]
  },
  {
   "cell_type": "code",
   "execution_count": null,
   "id": "074a2e99",
   "metadata": {},
   "outputs": [],
   "source": [
    "df.head()"
   ]
  },
  {
   "cell_type": "code",
   "execution_count": null,
   "id": "1230f750",
   "metadata": {},
   "outputs": [],
   "source": [
    "df['height']=df['height']*100   #convert it to the cm"
   ]
  },
  {
   "cell_type": "code",
   "execution_count": null,
   "id": "302d5590",
   "metadata": {},
   "outputs": [],
   "source": [
    "df['height']"
   ]
  },
  {
   "cell_type": "code",
   "execution_count": null,
   "id": "465e554d",
   "metadata": {},
   "outputs": [],
   "source": [
    "df['weight'] = df['weight'].str.extract(r'/\\s*(\\d+\\.?\\d*)').astype(float)    ## get the exact weight"
   ]
  },
  {
   "cell_type": "code",
   "execution_count": null,
   "id": "2a0af23b",
   "metadata": {},
   "outputs": [],
   "source": [
    "df['weight']"
   ]
  },
  {
   "cell_type": "code",
   "execution_count": null,
   "id": "655fc75e",
   "metadata": {},
   "outputs": [],
   "source": [
    "df = df.drop_duplicates()           #drop_duplicates values"
   ]
  },
  {
   "cell_type": "code",
   "execution_count": null,
   "id": "12d15a03",
   "metadata": {},
   "outputs": [],
   "source": [
    "df.boxplot(column='weight')\n",
    "plt.show()                         # know if it is Outlier or not?"
   ]
  },
  {
   "cell_type": "code",
   "execution_count": null,
   "id": "9c81560f",
   "metadata": {},
   "outputs": [],
   "source": [
    "Q1 = df['weight'].quantile(0.25)\n",
    "Q3 = df['weight'].quantile(0.75)\n",
    "IQR=Q3 - Q1\n",
    "upper_bound = Q3 + 1.5 * IQR                        \n",
    "upper_bound"
   ]
  },
  {
   "cell_type": "code",
   "execution_count": null,
   "id": "9b413a5f",
   "metadata": {},
   "outputs": [],
   "source": [
    "df['b_day']=df['b_day'].astype('datetime64[ns]')          #Convert it to a number"
   ]
  },
  {
   "cell_type": "code",
   "execution_count": null,
   "id": "85a26ddc",
   "metadata": {},
   "outputs": [],
   "source": [
    "df['b_day'].info()"
   ]
  },
  {
   "cell_type": "code",
   "execution_count": null,
   "id": "9d2eb947",
   "metadata": {},
   "outputs": [],
   "source": [
    "df['b_day']=pd.to_datetime(df['b_day']).dt.year        #get year to get age from it "
   ]
  },
  {
   "cell_type": "code",
   "execution_count": null,
   "id": "aa9b9b6a",
   "metadata": {},
   "outputs": [],
   "source": [
    "df['b_day']"
   ]
  },
  {
   "cell_type": "code",
   "execution_count": null,
   "id": "8949b8a7",
   "metadata": {},
   "outputs": [],
   "source": [
    "df['version']=df['version'].str.replace('NBA2k','20')        #get the year in which the players played"
   ]
  },
  {
   "cell_type": "code",
   "execution_count": null,
   "id": "d3a5d466",
   "metadata": {},
   "outputs": [],
   "source": [
    "df['version']"
   ]
  },
  {
   "cell_type": "code",
   "execution_count": null,
   "id": "6699127d",
   "metadata": {},
   "outputs": [],
   "source": [
    "df['version']=df['version'].astype(int)      #convert it to int"
   ]
  },
  {
   "cell_type": "code",
   "execution_count": null,
   "id": "0394a19b",
   "metadata": {},
   "outputs": [],
   "source": [
    "df['b_day']=df['b_day'].astype(int)          ##convert it to int"
   ]
  },
  {
   "cell_type": "code",
   "execution_count": null,
   "id": "88530fb9",
   "metadata": {},
   "outputs": [],
   "source": [
    "df['age']=df['version']-df['b_day']        #get age of player"
   ]
  },
  {
   "cell_type": "code",
   "execution_count": null,
   "id": "3ae55f97",
   "metadata": {},
   "outputs": [],
   "source": [
    "df['salary']=df['salary'].astype(int)        #convert it to int"
   ]
  },
  {
   "cell_type": "code",
   "execution_count": null,
   "id": "8909cda7",
   "metadata": {},
   "outputs": [],
   "source": [
    "df['weight']=df['weight'].astype(int)          #convert it to int"
   ]
  },
  {
   "cell_type": "code",
   "execution_count": null,
   "id": "6386767a",
   "metadata": {},
   "outputs": [],
   "source": [
    "df.drop('full_name',axis=1,inplace=True)    #drop it because it does not affect the result."
   ]
  },
  {
   "cell_type": "code",
   "execution_count": null,
   "id": "45ea279c",
   "metadata": {},
   "outputs": [],
   "source": [
    "df.drop('team',axis=1,inplace=True)      #drop it because there is missing data"
   ]
  },
  {
   "cell_type": "code",
   "execution_count": null,
   "id": "36c5f94b",
   "metadata": {},
   "outputs": [],
   "source": [
    "df.drop('b_day',axis=1,inplace=True)    #drop it because we don't need it anymore"
   ]
  },
  {
   "cell_type": "code",
   "execution_count": null,
   "id": "d73e6f5c",
   "metadata": {},
   "outputs": [],
   "source": [
    "df.drop('version',axis=1,inplace=True)  #drop it because we don't need it anymore"
   ]
  },
  {
   "cell_type": "code",
   "execution_count": null,
   "id": "d5b96862",
   "metadata": {},
   "outputs": [],
   "source": [
    "from sklearn.preprocessing import LabelEncoder as le\n",
    "model=le()                                                  #convert position to numbers \n",
    "df['position']=model.fit_transform(df['position'])"
   ]
  },
  {
   "cell_type": "code",
   "execution_count": null,
   "id": "f171febe",
   "metadata": {},
   "outputs": [],
   "source": [
    "df['draft_peak']=df['draft_peak'].replace('undrafted','0')     #replace 'string' values with 0"
   ]
  },
  {
   "cell_type": "code",
   "execution_count": null,
   "id": "09bdf0e1",
   "metadata": {},
   "outputs": [],
   "source": [
    "df['draft_round']=df['draft_round'].replace('undrafted','0')     #replace 'string' values with 0"
   ]
  }
 ],
 "metadata": {
  "kernelspec": {
   "display_name": "Python 3",
   "language": "python",
   "name": "python3"
  },
  "language_info": {
   "name": "python",
   "version": "3.12.1"
  }
 },
 "nbformat": 4,
 "nbformat_minor": 5
}
