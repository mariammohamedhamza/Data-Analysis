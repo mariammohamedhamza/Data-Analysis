{
 "cells": [
  {
   "cell_type": "code",
   "execution_count": null,
   "id": "1028e2d3",
   "metadata": {},
   "outputs": [],
   "source": [
    "import pandas as pd\n",
    "import numpy as np\n",
    "import matplotlib.pyplot as plt\n",
    "import seaborn as sns\n",
    "from scipy import stats"
   ]
  },
  {
   "cell_type": "code",
   "execution_count": null,
   "id": "a995fe5c",
   "metadata": {},
   "outputs": [],
   "source": [
    "df=pd.read_csv('/content/fake_medical_data_with_issues.csv')"
   ]
  },
  {
   "cell_type": "code",
   "execution_count": null,
   "id": "d6e71420",
   "metadata": {},
   "outputs": [],
   "source": [
    "df.head()"
   ]
  },
  {
   "cell_type": "code",
   "execution_count": null,
   "id": "e3e5ccfe",
   "metadata": {},
   "outputs": [],
   "source": [
    "data=df.copy()"
   ]
  },
  {
   "cell_type": "code",
   "execution_count": null,
   "id": "10b17caa",
   "metadata": {},
   "outputs": [],
   "source": [
    "df.shape"
   ]
  },
  {
   "cell_type": "code",
   "execution_count": null,
   "id": "8b951863",
   "metadata": {},
   "outputs": [],
   "source": [
    "df.isnull().sum()"
   ]
  },
  {
   "cell_type": "code",
   "execution_count": null,
   "id": "ff42e216",
   "metadata": {},
   "outputs": [],
   "source": [
    "df.info()"
   ]
  },
  {
   "cell_type": "code",
   "execution_count": null,
   "id": "b87fbc06",
   "metadata": {},
   "outputs": [],
   "source": [
    "df['Age'].fillna(df['Age'].mean(),inplace=True)  #fill missing value"
   ]
  },
  {
   "cell_type": "code",
   "execution_count": null,
   "id": "e550e1b6",
   "metadata": {},
   "outputs": [],
   "source": [
    "df['Age'].isnull().sum()"
   ]
  },
  {
   "cell_type": "code",
   "execution_count": null,
   "id": "df8bfe96",
   "metadata": {},
   "outputs": [],
   "source": [
    "df['Gender'].info()"
   ]
  },
  {
   "cell_type": "code",
   "execution_count": null,
   "id": "eda508ca",
   "metadata": {},
   "outputs": [],
   "source": [
    "df['Gender'].value_counts()"
   ]
  },
  {
   "cell_type": "code",
   "execution_count": null,
   "id": "3e2f6f08",
   "metadata": {},
   "outputs": [],
   "source": [
    "null_indices = df[df['Gender'].isna()].index\n",
    "fill_values = ['Female'] * 65 + ['Male'] * 10\n",
    "np.random.shuffle(fill_values)\n",
    "df.loc[null_indices, 'Gender'] = fill_values"
   ]
  },
  {
   "cell_type": "code",
   "execution_count": null,
   "id": "43bbc8fa",
   "metadata": {},
   "outputs": [],
   "source": [
    "df['Height_cm'].fillna(df['Height_cm'].mean(),inplace=True)\n",
    "df['Weight_kg'].fillna(df['Weight_kg'].mean(),inplace=True)    # replace missing values"
   ]
  },
  {
   "cell_type": "code",
   "execution_count": null,
   "id": "f575d286",
   "metadata": {},
   "outputs": [],
   "source": [
    "df['Height_cm'].isnull().sum()"
   ]
  },
  {
   "cell_type": "code",
   "execution_count": null,
   "id": "080a24b7",
   "metadata": {},
   "outputs": [],
   "source": [
    "df['Weight_kg'].isnull().sum()"
   ]
  },
  {
   "cell_type": "code",
   "execution_count": null,
   "id": "856c94f7",
   "metadata": {},
   "outputs": [],
   "source": [
    "df['BMI'].value_counts()"
   ]
  },
  {
   "cell_type": "code",
   "execution_count": null,
   "id": "14a13397",
   "metadata": {},
   "outputs": [],
   "source": [
    "plt.figure(figsize=(8, 5))\n",
    "sns.countplot(x='BMI', data=df, palette='Set2')\n",
    "plt.title('BMI Category Distribution')\n",
    "plt.xlabel('BMI Category')\n",
    "plt.ylabel('Count')\n",
    "plt.xticks(rotation=45)\n",
    "plt.tight_layout()\n",
    "plt.show()"
   ]
  },
  {
   "cell_type": "code",
   "execution_count": null,
   "id": "45e6df8c",
   "metadata": {},
   "outputs": [],
   "source": [
    "df['BMI'].fillna(df['BMI'].mode()[0], inplace=True)"
   ]
  },
  {
   "cell_type": "code",
   "execution_count": null,
   "id": "ac67aca8",
   "metadata": {},
   "outputs": [],
   "source": [
    "df['BMI'].isnull().sum()"
   ]
  },
  {
   "cell_type": "code",
   "execution_count": null,
   "id": "dee2154c",
   "metadata": {},
   "outputs": [],
   "source": [
    "df['Blood_Pressure'].value_counts()"
   ]
  },
  {
   "cell_type": "code",
   "execution_count": null,
   "id": "e4c3ce2a",
   "metadata": {},
   "outputs": [],
   "source": [
    "if 'Blood_Pressure' in df.columns:\n",
    "    split_cols = df['Blood_Pressure'].str.split('/', expand=True)\n",
    "    df['Systolic'] = pd.to_numeric(split_cols[0], errors='coerce')\n",
    "    df['Diastolic'] = pd.to_numeric(split_cols[1], errors='coerce')"
   ]
  },
  {
   "cell_type": "code",
   "execution_count": null,
   "id": "d0d03190",
   "metadata": {},
   "outputs": [],
   "source": [
    "df.drop('Patient_ID',axis=1,inplace=True)\n",
    "df.drop('Blood_Pressure',axis=1,inplace=True)"
   ]
  },
  {
   "cell_type": "code",
   "execution_count": null,
   "id": "88511bb3",
   "metadata": {},
   "outputs": [],
   "source": [
    "df['Heart_Rate'].isnull().sum()"
   ]
  },
  {
   "cell_type": "code",
   "execution_count": null,
   "id": "d0ae074f",
   "metadata": {},
   "outputs": [],
   "source": [
    "plt.figure(figsize=(8, 5))\n",
    "sns.countplot(x='Heart_Rate', data=df, palette='Set2')\n",
    "plt.xticks(rotation=45)\n",
    "plt.tight_layout()\n",
    "plt.show()"
   ]
  },
  {
   "cell_type": "code",
   "execution_count": null,
   "id": "bbac3575",
   "metadata": {},
   "outputs": [],
   "source": [
    "df['Heart_Rate'].fillna(df['BMI'].mode()[0], inplace=True)"
   ]
  },
  {
   "cell_type": "code",
   "execution_count": null,
   "id": "8046fee7",
   "metadata": {},
   "outputs": [],
   "source": [
    "df['Heart_Rate'].isnull().sum()"
   ]
  },
  {
   "cell_type": "code",
   "execution_count": null,
   "id": "e4302c8d",
   "metadata": {},
   "outputs": [],
   "source": [
    "df['Cholesterol'].info()"
   ]
  },
  {
   "cell_type": "code",
   "execution_count": null,
   "id": "52283c54",
   "metadata": {},
   "outputs": [],
   "source": [
    "null_indices = df[df['Cholesterol'].isna()].index\n",
    "n_nulls = len(null_indices)\n",
    "fill_values = ['Normal'] * 40 + ['High'] * 45 + ['Low'] * 42\n",
    "total_known = len(fill_values)\n",
    "p_normal = 40 / total_known\n",
    "p_high = 45 / total_known\n",
    "p_low = 42 / total_known\n",
    "n_normal = int(p_normal * n_nulls)\n",
    "n_high = int(p_high * n_nulls)\n",
    "n_low = n_nulls - n_normal - n_high\n",
    "fill_nulls = ['normal'] * n_normal + ['high'] * n_high + ['low'] * n_low\n",
    "np.random.shuffle(fill_nulls)\n",
    "df.loc[null_indices, 'Cholesterol'] = fill_nulls"
   ]
  },
  {
   "cell_type": "code",
   "execution_count": null,
   "id": "c5e2337e",
   "metadata": {},
   "outputs": [],
   "source": [
    "df['Diabetes'].value_counts()"
   ]
  },
  {
   "cell_type": "code",
   "execution_count": null,
   "id": "9c927bab",
   "metadata": {},
   "outputs": [],
   "source": [
    "null_indices = df[df['Diabetes'].isna()].index\n",
    "count_y = 45\n",
    "count_no = 43\n",
    "count_yes = 30\n",
    "total_known = count_y + count_no + count_yes\n",
    "p_y = count_y / total_known\n",
    "p_no = count_no / total_known\n",
    "p_yes = count_yes / total_known\n",
    "n_nulls = len(null_indices)\n",
    "n_y = int(p_y * n_nulls)\n",
    "n_no = int(p_no * n_nulls)\n",
    "n_yes = n_nulls - n_y - n_no\n",
    "fill_values = ['Y'] * n_y + ['No'] * n_no + ['Yes'] * n_yes\n",
    "np.random.shuffle(fill_values)\n",
    "df.loc[null_indices, 'Diabetes'] = fill_values\n"
   ]
  },
  {
   "cell_type": "code",
   "execution_count": null,
   "id": "6dd16fc9",
   "metadata": {},
   "outputs": [],
   "source": [
    "df['Diabetes'].info()"
   ]
  },
  {
   "cell_type": "code",
   "execution_count": null,
   "id": "b1c9361c",
   "metadata": {},
   "outputs": [],
   "source": [
    "df['Smoker'].info()"
   ]
  },
  {
   "cell_type": "code",
   "execution_count": null,
   "id": "4c7d12f6",
   "metadata": {},
   "outputs": [],
   "source": [
    "df.drop('Smoker',axis=1,inplace=True)"
   ]
  },
  {
   "cell_type": "code",
   "execution_count": null,
   "id": "3ae0baa5",
   "metadata": {},
   "outputs": [],
   "source": [
    "df['Exercise_Freq'].value_counts()"
   ]
  },
  {
   "cell_type": "code",
   "execution_count": null,
   "id": "7f6dfcc0",
   "metadata": {},
   "outputs": [],
   "source": [
    "null_indices = df[df['Exercise_Freq'].isna()].index\n",
    "count_daily = 49\n",
    "count_never = 40\n",
    "count_rarely = 36\n",
    "count_weekly = 34\n",
    "total_known = count_daily + count_never + count_rarely + count_weekly\n",
    "p_daily = count_daily / total_known\n",
    "p_never = count_never / total_known\n",
    "p_rarely = count_rarely / total_known\n",
    "p_weekly = count_weekly / total_known\n",
    "n_nulls = len(null_indices)\n",
    "n_daily = int(p_daily * n_nulls)\n",
    "n_never = int(p_never * n_nulls)\n",
    "n_rarely = int(p_rarely * n_nulls)\n",
    "n_weekly = n_nulls - n_daily - n_never - n_rarely\n",
    "fill_values = (\n",
    "    ['Daily'] * n_daily +\n",
    "    ['Never'] * n_never +\n",
    "    ['Rarely'] * n_rarely +\n",
    "    ['Weekly'] * n_weekly\n",
    ")\n",
    "np.random.shuffle(fill_values)\n",
    "df.loc[null_indices, 'Exercise_Freq'] = fill_values"
   ]
  },
  {
   "cell_type": "code",
   "execution_count": null,
   "id": "e0a0c6f3",
   "metadata": {},
   "outputs": [],
   "source": [
    "df['Exercise_Freq'].info()"
   ]
  },
  {
   "cell_type": "code",
   "execution_count": null,
   "id": "ff3a5855",
   "metadata": {},
   "outputs": [],
   "source": [
    "df['Medication'].value_counts()"
   ]
  },
  {
   "cell_type": "code",
   "execution_count": null,
   "id": "f9fb301d",
   "metadata": {},
   "outputs": [],
   "source": [
    "plt.figure(figsize=(8, 5))\n",
    "sns.countplot(x='Medication', data=df, palette='Set2')\n",
    "plt.xticks(rotation=45)\n",
    "plt.tight_layout()\n",
    "plt.show()"
   ]
  },
  {
   "cell_type": "code",
   "execution_count": null,
   "id": "988d092c",
   "metadata": {},
   "outputs": [],
   "source": [
    "df['Medication'].info()"
   ]
  },
  {
   "cell_type": "code",
   "execution_count": null,
   "id": "bd037069",
   "metadata": {},
   "outputs": [],
   "source": [
    "null_indices = df[df['Medication'].isna()].index\n",
    "count_druga = 45\n",
    "count_drugb = 39\n",
    "count_unknown = 35\n",
    "total_known = count_druga + count_drugb + count_unknown\n",
    "p_druga = count_druga / total_known\n",
    "p_drugb = count_drugb / total_known\n",
    "p_unknown = count_unknown / total_known\n",
    "n_nulls = len(null_indices)\n",
    "n_druga = int(p_druga * n_nulls)\n",
    "n_drugb = int(p_drugb * n_nulls)\n",
    "n_unknown = n_nulls - n_druga - n_drugb\n",
    "fill_values = (\n",
    "    ['DrugA'] * n_druga +\n",
    "    ['DrugB'] * n_drugb +\n",
    "    ['Unknown'] * n_unknown\n",
    ")\n",
    "np.random.shuffle(fill_values)\n",
    "df.loc[null_indices, 'Medication'] = fill_values"
   ]
  },
  {
   "cell_type": "code",
   "execution_count": null,
   "id": "1ddd971f",
   "metadata": {},
   "outputs": [],
   "source": [
    "df['Medication'].info()"
   ]
  },
  {
   "cell_type": "code",
   "execution_count": null,
   "id": "fdd08b44",
   "metadata": {},
   "outputs": [],
   "source": [
    "df['Diagnosis'].value_counts()"
   ]
  },
  {
   "cell_type": "code",
   "execution_count": null,
   "id": "71a9c0ab",
   "metadata": {},
   "outputs": [],
   "source": [
    "df['Diagnosis'].isnull().sum()"
   ]
  },
  {
   "cell_type": "code",
   "execution_count": null,
   "id": "77cd7bbd",
   "metadata": {},
   "outputs": [],
   "source": [
    "null_indices = df[df['Diagnosis'].isna()].index\n",
    "count_diabetes = 48\n",
    "count_hypertension = 38\n",
    "total_known = count_diabetes + count_hypertension\n",
    "p_diabetes = count_diabetes / total_known\n",
    "p_hypertension = count_hypertension / total_known\n",
    "n_nulls = len(null_indices)\n",
    "n_diabetes = int(p_diabetes * n_nulls)\n",
    "n_hypertension = n_nulls - n_diabetes\n",
    "fill_values = (\n",
    "    ['Diabetes'] * n_diabetes +\n",
    "    ['Hypertension'] * n_hypertension\n",
    ")\n",
    "np.random.shuffle(fill_values)\n",
    "df.loc[null_indices, 'Diagnosis'] = fill_values"
   ]
  },
  {
   "cell_type": "code",
   "execution_count": null,
   "id": "eee38cea",
   "metadata": {},
   "outputs": [],
   "source": [
    "df['Diagnosis'].info()"
   ]
  },
  {
   "cell_type": "code",
   "execution_count": null,
   "id": "d925297c",
   "metadata": {},
   "outputs": [],
   "source": [
    "plt.figure(figsize=(8, 5))\n",
    "sns.countplot(x='Diagnosis', data=df, palette='Set2')\n",
    "plt.xticks(rotation=45)\n",
    "plt.tight_layout()\n",
    "plt.show()"
   ]
  },
  {
   "cell_type": "code",
   "execution_count": null,
   "id": "60fd4950",
   "metadata": {},
   "outputs": [],
   "source": [
    "df['Visit_Date'].value_counts()"
   ]
  },
  {
   "cell_type": "code",
   "execution_count": null,
   "id": "b68f3890",
   "metadata": {},
   "outputs": [],
   "source": [
    "df['Visit_Date'] = pd.to_datetime(df['Visit_Date'], errors='coerce')\n",
    "null_indices = df[df['Visit_Date'].isna()].index\n",
    "n_nulls = len(null_indices)\n",
    "date1 = pd.Timestamp('2025-01-10')\n",
    "date2 = pd.Timestamp('2025-02-20')\n",
    "count_date1 = 47\n",
    "count_date2 = 43\n",
    "total_known = count_date1 + count_date2\n",
    "p_date1 = count_date1 / total_known\n",
    "p_date2 = count_date2 / total_known\n",
    "n_date1 = int(p_date1 * n_nulls)\n",
    "n_date2 = n_nulls - n_date1\n",
    "fill_values = [date1] * n_date1 + [date2] * n_date2\n",
    "np.random.shuffle(fill_values)\n",
    "df.loc[null_indices, 'Visit_Date'] = fill_values"
   ]
  },
  {
   "cell_type": "code",
   "execution_count": null,
   "id": "97936979",
   "metadata": {},
   "outputs": [],
   "source": [
    "df['Year'] = df['Visit_Date'].dt.year\n",
    "df['Month'] = df['Visit_Date'].dt.month\n",
    "df['Day'] = df['Visit_Date'].dt.day\n",
    "df['Weekday'] = df['Visit_Date'].dt.weekday"
   ]
  },
  {
   "cell_type": "code",
   "execution_count": null,
   "id": "8042e412",
   "metadata": {},
   "outputs": [],
   "source": [
    "df['Visit_Date'].info()"
   ]
  },
  {
   "cell_type": "code",
   "execution_count": null,
   "id": "3fa3500d",
   "metadata": {},
   "outputs": [],
   "source": [
    "df['Follow_Up_Days'].value_counts()"
   ]
  },
  {
   "cell_type": "code",
   "execution_count": null,
   "id": "6df03622",
   "metadata": {},
   "outputs": [],
   "source": [
    "df['Follow_Up_Days'].isnull().sum()"
   ]
  },
  {
   "cell_type": "code",
   "execution_count": null,
   "id": "bb541ea4",
   "metadata": {},
   "outputs": [],
   "source": [
    "df['Follow_Up_Days'].fillna(df['Follow_Up_Days'].mean(), inplace=True)"
   ]
  },
  {
   "cell_type": "code",
   "execution_count": null,
   "id": "ddbe0390",
   "metadata": {},
   "outputs": [],
   "source": [
    "df['Follow_Up_Days'].isnull().sum()"
   ]
  },
  {
   "cell_type": "code",
   "execution_count": null,
   "id": "f2a315a7",
   "metadata": {},
   "outputs": [],
   "source": [
    "df.head()"
   ]
  },
  {
   "cell_type": "code",
   "execution_count": null,
   "id": "83e8ed8f",
   "metadata": {},
   "outputs": [],
   "source": [
    "df['Doctor_Notes']=data['Doctor_Notes']"
   ]
  },
  {
   "cell_type": "code",
   "execution_count": null,
   "id": "332e4ad8",
   "metadata": {},
   "outputs": [],
   "source": [
    "df['Doctor_Notes'].info()"
   ]
  },
  {
   "cell_type": "code",
   "execution_count": null,
   "id": "396e9d11",
   "metadata": {},
   "outputs": [],
   "source": [
    "df['Doctor_Notes'].value_counts()"
   ]
  },
  {
   "cell_type": "code",
   "execution_count": null,
   "id": "e138cf6f",
   "metadata": {},
   "outputs": [],
   "source": [
    "null_indices = df[df['Doctor_Notes'].isna()].index\n",
    "n_nulls = len(null_indices)\n",
    "p_check = 56 / (56 + 46)\n",
    "p_follow = 46 / (56 + 46)\n",
    "n_check = int(p_check * n_nulls)\n",
    "n_follow = n_nulls - n_check\n",
    "fill_values = ['Check BP'] * n_check + ['Follow-up required'] * n_follow\n",
    "np.random.shuffle(fill_values)\n",
    "df.loc[null_indices, 'Doctor_Notes'] = fill_values"
   ]
  },
  {
   "cell_type": "code",
   "execution_count": null,
   "id": "f9abd26e",
   "metadata": {},
   "outputs": [],
   "source": [
    "df['Doctor_Notes'].info()"
   ]
  },
  {
   "cell_type": "code",
   "execution_count": null,
   "id": "e9a0f031",
   "metadata": {},
   "outputs": [],
   "source": [
    "df.drop('Insurance_Status',axis=1,inplace=True)"
   ]
  },
  {
   "cell_type": "code",
   "execution_count": null,
   "id": "59671939",
   "metadata": {},
   "outputs": [],
   "source": [
    "df.drop('Visit_Date',axis=1,inplace=True)"
   ]
  },
  {
   "cell_type": "code",
   "execution_count": null,
   "id": "f7d15f4a",
   "metadata": {},
   "outputs": [],
   "source": [
    "df['Hospital'].fillna(df['Hospital'].mode()[0], inplace=True)"
   ]
  },
  {
   "cell_type": "code",
   "execution_count": null,
   "id": "53b0bb46",
   "metadata": {},
   "outputs": [],
   "source": [
    "df['Hospital'].info()"
   ]
  },
  {
   "cell_type": "code",
   "execution_count": null,
   "id": "877fbac1",
   "metadata": {},
   "outputs": [],
   "source": [
    "df['Alcohol_Intake'].value_counts()"
   ]
  },
  {
   "cell_type": "code",
   "execution_count": null,
   "id": "87e95bcc",
   "metadata": {},
   "outputs": [],
   "source": [
    "df.drop('Alcohol_Intake',axis=1,inplace=True)"
   ]
  },
  {
   "cell_type": "code",
   "execution_count": null,
   "id": "86a3becc",
   "metadata": {},
   "outputs": [],
   "source": [
    "df['Systolic'].fillna(df['Systolic'].mean(), inplace=True)\n",
    "df['Diastolic'].fillna(df['Diastolic'].mean(), inplace=True)"
   ]
  },
  {
   "cell_type": "code",
   "execution_count": null,
   "id": "8e192265",
   "metadata": {},
   "outputs": [],
   "source": [
    "df.isnull().sum()"
   ]
  },
  {
   "cell_type": "code",
   "execution_count": null,
   "id": "d7031114",
   "metadata": {},
   "outputs": [],
   "source": [
    "df.drop_duplicates(inplace=True)"
   ]
  },
  {
   "cell_type": "code",
   "execution_count": null,
   "id": "01ba2205",
   "metadata": {},
   "outputs": [],
   "source": [
    "numerical_features = df.select_dtypes(include=np.number).columns\n",
    "\n",
    "for feature in numerical_features:\n",
    "  plt.figure(figsize=(8, 6))\n",
    "  plt.boxplot(df[feature].dropna())\n",
    "  plt.title(f\"Box Plot of {feature}\")\n",
    "  plt.ylabel(feature)\n",
    "  plt.show()"
   ]
  },
  {
   "cell_type": "code",
   "execution_count": null,
   "id": "3516a4bc",
   "metadata": {},
   "outputs": [],
   "source": [
    "df = df[df['Height_cm'] != df['Height_cm'].min()]\n",
    "df = df[df['Height_cm'] != df['Height_cm'].max()]"
   ]
  },
  {
   "cell_type": "code",
   "execution_count": null,
   "id": "0e85eafc",
   "metadata": {},
   "outputs": [],
   "source": [
    "df = df[df['Weight_kg'] != df['Weight_kg'].min()]"
   ]
  },
  {
   "cell_type": "code",
   "execution_count": null,
   "id": "a947fa01",
   "metadata": {},
   "outputs": [],
   "source": [
    "df = df[df['BMI'] != df['BMI'].max()]"
   ]
  },
  {
   "cell_type": "code",
   "execution_count": null,
   "id": "c02074b2",
   "metadata": {},
   "outputs": [],
   "source": [
    "df = df[df['Systolic'] != df['Systolic'].max()]"
   ]
  },
  {
   "cell_type": "code",
   "execution_count": null,
   "id": "bd0545a5",
   "metadata": {},
   "outputs": [],
   "source": [
    "df = df[df['Diastolic'] != df['Diastolic'].max()]"
   ]
  },
  {
   "cell_type": "code",
   "execution_count": null,
   "id": "b40e3663",
   "metadata": {},
   "outputs": [],
   "source": [
    "numerical_features = df.select_dtypes(include=np.number).columns\n",
    "\n",
    "for feature in numerical_features:\n",
    "  plt.figure(figsize=(8, 6))\n",
    "  plt.boxplot(df[feature].dropna())\n",
    "  plt.title(f\"Box Plot of {feature}\")\n",
    "  plt.ylabel(feature)\n",
    "  plt.show()"
   ]
  },
  {
   "cell_type": "code",
   "execution_count": null,
   "id": "0106ce5d",
   "metadata": {},
   "outputs": [],
   "source": [
    "dummies = pd.get_dummies(df['Gender'])\n",
    "df= pd.concat([df, dummies], axis=1)"
   ]
  },
  {
   "cell_type": "code",
   "execution_count": null,
   "id": "d09d8097",
   "metadata": {},
   "outputs": [],
   "source": [
    "df.drop('Gender',axis=1,inplace=True)"
   ]
  },
  {
   "cell_type": "code",
   "execution_count": null,
   "id": "20e8a19f",
   "metadata": {},
   "outputs": [],
   "source": [
    "df['Cholesterol_encoded'], uniques = pd.factorize(df['Cholesterol'])"
   ]
  },
  {
   "cell_type": "code",
   "execution_count": null,
   "id": "b96865e4",
   "metadata": {},
   "outputs": [],
   "source": [
    "for col in ['Cholesterol', 'Diabetes', 'Exercise_Freq', 'Medication', 'Diagnosis']:\n",
    "    df[col + '_encoded'], _ = pd.factorize(df[col])"
   ]
  },
  {
   "cell_type": "code",
   "execution_count": null,
   "id": "db138b51",
   "metadata": {},
   "outputs": [],
   "source": [
    "df.drop('Diagnosis',axis=1,inplace=True)\n",
    "df.drop('Medication',axis=1,inplace=True)\n",
    "df.drop('Exercise_Freq',axis=1,inplace=True)\n",
    "df.drop('Cholesterol',axis=1,inplace=True)\n",
    "df.drop('Diabetes',axis=1,inplace=True)"
   ]
  },
  {
   "cell_type": "code",
   "execution_count": null,
   "id": "18739e55",
   "metadata": {},
   "outputs": [],
   "source": [
    "for col in ['Doctor_Notes' ,\t'Hospital']:\n",
    "    df[col + '_encoded'], _ = pd.factorize(df[col])"
   ]
  },
  {
   "cell_type": "code",
   "execution_count": null,
   "id": "470b7e99",
   "metadata": {},
   "outputs": [],
   "source": [
    "df.drop('Doctor_Notes',axis=1,inplace=True)\n",
    "df.drop('Hospital',axis=1,inplace=True)"
   ]
  },
  {
   "cell_type": "code",
   "execution_count": null,
   "id": "071f9acf",
   "metadata": {},
   "outputs": [],
   "source": [
    "df.head()"
   ]
  }
 ],
 "metadata": {
  "kernelspec": {
   "display_name": "Python 3",
   "language": "python",
   "name": "python3"
  },
  "language_info": {
   "name": "python",
   "version": "3.12.1"
  }
 },
 "nbformat": 4,
 "nbformat_minor": 5
}
